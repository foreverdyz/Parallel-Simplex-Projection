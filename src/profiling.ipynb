{
 "cells": [
  {
   "cell_type": "code",
   "execution_count": 11,
   "id": "3234b3b9",
   "metadata": {},
   "outputs": [
    {
     "name": "stderr",
     "output_type": "stream",
     "text": [
      "\u001b[36m\u001b[1m[ \u001b[22m\u001b[39m\u001b[36m\u001b[1mInfo: \u001b[22m\u001b[39mPrecompiling ProfileVega [4391764f-db79-4bd7-a4c6-f9062de4300e]\n"
     ]
    }
   ],
   "source": [
    "using Profile\n",
    "using ProfileVega\n",
    "using Random, Distributions"
   ]
  },
  {
   "cell_type": "code",
   "execution_count": 15,
   "id": "63173571",
   "metadata": {},
   "outputs": [
    {
     "data": {
      "text/plain": [
       "variable_check (generic function with 1 method)"
      ]
     },
     "execution_count": 15,
     "metadata": {},
     "output_type": "execute_result"
    }
   ],
   "source": [
    "function variable_check(d::AbstractVector, p::Real)\n",
    "    l = length(d)\n",
    "    for i in 1:l\n",
    "        x = popfirst!(d)\n",
    "        if x>p\n",
    "            push!(d, x)\n",
    "        end\n",
    "    end\n",
    "end"
   ]
  },
  {
   "cell_type": "code",
   "execution_count": 24,
   "id": "aeda5a59",
   "metadata": {},
   "outputs": [
    {
     "data": {
      "text/plain": [
       "one_iteration_michelot (generic function with 2 methods)"
      ]
     },
     "execution_count": 24,
     "metadata": {},
     "output_type": "execute_result"
    }
   ],
   "source": [
    "function one_iteration_michelot(d::AbstractVector, b::Real = 1)\n",
    "    p = (sum(d)-b)/length(d)\n",
    "    variable_check(d, p)\n",
    "end    "
   ]
  },
  {
   "cell_type": "code",
   "execution_count": 28,
   "id": "5c6253f7",
   "metadata": {},
   "outputs": [],
   "source": [
    "Profile.clear()\n",
    "@profile one_iteration_michelot(rand(1_000_000), 1)"
   ]
  },
  {
   "cell_type": "code",
   "execution_count": 29,
   "id": "5ae69236",
   "metadata": {},
   "outputs": [
    {
     "data": {
      "application/vnd.vegalite.v4+json": {
       "data": {
        "values": [
         {
          "level": 0,
          "sf": "ip:0x0",
          "status": "Runtime dispatch",
          "x1": 1,
          "x2": 59.9
         },
         {
          "level": 1,
          "sf": "one_iteration_michelot(::Array{Float64,1}, ::Int64) at In[24]:3",
          "status": "Default",
          "x1": 1,
          "x2": 4.9
         },
         {
          "level": 1,
          "sf": "(::IJulia.var\"#15#18\")() at task.jl:356",
          "status": "Default",
          "x1": 5,
          "x2": 59.9
         },
         {
          "level": 2,
          "sf": "eventloop(::ZMQ.Socket) at eventloop.jl:8",
          "status": "Default",
          "x1": 5,
          "x2": 59.9
         },
         {
          "level": 3,
          "sf": "invokelatest at essentials.jl:709 [inlined]",
          "status": "Default",
          "x1": 5,
          "x2": 59.9
         },
         {
          "level": 4,
          "sf": "#invokelatest#1 at essentials.jl:710 [inlined]",
          "status": "Runtime dispatch",
          "x1": 5,
          "x2": 59.9
         },
         {
          "level": 5,
          "sf": "execute_request(::ZMQ.Socket, ::IJulia.Msg) at execute_request.jl:67",
          "status": "Runtime dispatch",
          "x1": 5,
          "x2": 59.9
         },
         {
          "level": 6,
          "sf": "softscope_include_string(::Module, ::String, ::String) at SoftGlobalScope.jl:65",
          "status": "Default",
          "x1": 5,
          "x2": 59.9
         },
         {
          "level": 7,
          "sf": "include_string(::Function, ::Module, ::String, ::String) at loading.jl:1091",
          "status": "Runtime dispatch",
          "x1": 5,
          "x2": 59.9
         },
         {
          "level": 8,
          "sf": "one_iteration_michelot(::Array{Float64,1}, ::Int64) at In[24]:2",
          "status": "Default",
          "x1": 5,
          "x2": 5.9
         },
         {
          "level": 9,
          "sf": "sum at reducedim.jl:722 [inlined]",
          "status": "Default",
          "x1": 5,
          "x2": 5.9
         },
         {
          "level": 10,
          "sf": "#sum#627 at reducedim.jl:722 [inlined]",
          "status": "Default",
          "x1": 5,
          "x2": 5.9
         },
         {
          "level": 11,
          "sf": "_sum at reducedim.jl:726 [inlined]",
          "status": "Default",
          "x1": 5,
          "x2": 5.9
         },
         {
          "level": 12,
          "sf": "_sum at reducedim.jl:727 [inlined]",
          "status": "Default",
          "x1": 5,
          "x2": 5.9
         },
         {
          "level": 13,
          "sf": "mapreduce at reducedim.jl:310 [inlined]",
          "status": "Default",
          "x1": 5,
          "x2": 5.9
         },
         {
          "level": 14,
          "sf": "#mapreduce#620 at reducedim.jl:310 [inlined]",
          "status": "Default",
          "x1": 5,
          "x2": 5.9
         },
         {
          "level": 15,
          "sf": "_mapreduce_dim at reducedim.jl:318 [inlined]",
          "status": "Default",
          "x1": 5,
          "x2": 5.9
         },
         {
          "level": 16,
          "sf": "_mapreduce at reduce.jl:415 [inlined]",
          "status": "Default",
          "x1": 5,
          "x2": 5.9
         },
         {
          "level": 17,
          "sf": "mapreduce_impl at reduce.jl:257 [inlined]",
          "status": "Default",
          "x1": 5,
          "x2": 5.9
         },
         {
          "level": 18,
          "sf": "mapreduce_impl(::typeof(identity), ::typeof(Base.add_sum), ::Array{Float64,1}, ::Int64, ::Int64, ::Int64) at reduce.jl:251",
          "status": "Default",
          "x1": 5,
          "x2": 5.9
         },
         {
          "level": 19,
          "sf": "mapreduce_impl(::typeof(identity), ::typeof(Base.add_sum), ::Array{Float64,1}, ::Int64, ::Int64, ::Int64) at reduce.jl:252",
          "status": "Default",
          "x1": 5,
          "x2": 5.9
         },
         {
          "level": 20,
          "sf": "mapreduce_impl(::typeof(identity), ::typeof(Base.add_sum), ::Array{Float64,1}, ::Int64, ::Int64, ::Int64) at reduce.jl:252",
          "status": "Default",
          "x1": 5,
          "x2": 5.9
         },
         {
          "level": 21,
          "sf": "mapreduce_impl(::typeof(identity), ::typeof(Base.add_sum), ::Array{Float64,1}, ::Int64, ::Int64, ::Int64) at reduce.jl:251",
          "status": "Default",
          "x1": 5,
          "x2": 5.9
         },
         {
          "level": 22,
          "sf": "mapreduce_impl(::typeof(identity), ::typeof(Base.add_sum), ::Array{Float64,1}, ::Int64, ::Int64, ::Int64) at reduce.jl:252",
          "status": "Default",
          "x1": 5,
          "x2": 5.9
         },
         {
          "level": 23,
          "sf": "mapreduce_impl(::typeof(identity), ::typeof(Base.add_sum), ::Array{Float64,1}, ::Int64, ::Int64, ::Int64) at reduce.jl:251",
          "status": "Default",
          "x1": 5,
          "x2": 5.9
         },
         {
          "level": 24,
          "sf": "mapreduce_impl(::typeof(identity), ::typeof(Base.add_sum), ::Array{Float64,1}, ::Int64, ::Int64, ::Int64) at reduce.jl:251",
          "status": "Default",
          "x1": 5,
          "x2": 5.9
         },
         {
          "level": 25,
          "sf": "mapreduce_impl(::typeof(identity), ::typeof(Base.add_sum), ::Array{Float64,1}, ::Int64, ::Int64, ::Int64) at reduce.jl:251",
          "status": "Default",
          "x1": 5,
          "x2": 5.9
         },
         {
          "level": 26,
          "sf": "mapreduce_impl(::typeof(identity), ::typeof(Base.add_sum), ::Array{Float64,1}, ::Int64, ::Int64, ::Int64) at reduce.jl:251",
          "status": "Default",
          "x1": 5,
          "x2": 5.9
         },
         {
          "level": 27,
          "sf": "mapreduce_impl(::typeof(identity), ::typeof(Base.add_sum), ::Array{Float64,1}, ::Int64, ::Int64, ::Int64) at reduce.jl:252",
          "status": "Default",
          "x1": 5,
          "x2": 5.9
         },
         {
          "level": 28,
          "sf": "mapreduce_impl(::typeof(identity), ::typeof(Base.add_sum), ::Array{Float64,1}, ::Int64, ::Int64, ::Int64) at reduce.jl:243",
          "status": "Default",
          "x1": 5,
          "x2": 5.9
         },
         {
          "level": 29,
          "sf": "macro expansion at simdloop.jl:77 [inlined]",
          "status": "Default",
          "x1": 5,
          "x2": 5.9
         },
         {
          "level": 30,
          "sf": "macro expansion at reduce.jl:245 [inlined]",
          "status": "Default",
          "x1": 5,
          "x2": 5.9
         },
         {
          "level": 31,
          "sf": "add_sum at reduce.jl:27 [inlined]",
          "status": "Default",
          "x1": 5,
          "x2": 5.9
         },
         {
          "level": 32,
          "sf": "+ at float.jl:401 [inlined]",
          "status": "Default",
          "x1": 5,
          "x2": 5.9
         },
         {
          "level": 8,
          "sf": "one_iteration_michelot(::Array{Float64,1}, ::Int64) at In[24]:3",
          "status": "Default",
          "x1": 6,
          "x2": 48.9
         },
         {
          "level": 9,
          "sf": "variable_check(::Array{Float64,1}, ::Float64) at In[15]:4",
          "status": "Default",
          "x1": 6,
          "x2": 23.9
         },
         {
          "level": 10,
          "sf": "popfirst! at array.jl:1254 [inlined]",
          "status": "Default",
          "x1": 6,
          "x2": 6.9
         },
         {
          "level": 11,
          "sf": "isempty at abstractarray.jl:989 [inlined]",
          "status": "Default",
          "x1": 6,
          "x2": 6.9
         },
         {
          "level": 12,
          "sf": "length at array.jl:219 [inlined]",
          "status": "Default",
          "x1": 6,
          "x2": 6.9
         },
         {
          "level": 10,
          "sf": "popfirst! at array.jl:1257 [inlined]",
          "status": "Default",
          "x1": 7,
          "x2": 8.9
         },
         {
          "level": 11,
          "sf": "getindex at array.jl:809 [inlined]",
          "status": "Default",
          "x1": 7,
          "x2": 8.9
         },
         {
          "level": 10,
          "sf": "popfirst! at array.jl:1258 [inlined]",
          "status": "Default",
          "x1": 9,
          "x2": 23.9
         },
         {
          "level": 11,
          "sf": "_deletebeg! at array.jl:899 [inlined]",
          "status": "Default",
          "x1": 9,
          "x2": 23.9
         },
         {
          "level": 9,
          "sf": "variable_check(::Array{Float64,1}, ::Float64) at In[15]:6",
          "status": "Default",
          "x1": 24,
          "x2": 48.9
         },
         {
          "level": 10,
          "sf": "push! at array.jl:935 [inlined]",
          "status": "Default",
          "x1": 24,
          "x2": 46.9
         },
         {
          "level": 11,
          "sf": "_growend! at array.jl:892 [inlined]",
          "status": "Garbage collection",
          "x1": 24,
          "x2": 46.9
         },
         {
          "level": 10,
          "sf": "iterate at range.jl:624 [inlined]",
          "status": "Default",
          "x1": 47,
          "x2": 48.9
         },
         {
          "level": 11,
          "sf": "== at promotion.jl:398 [inlined]",
          "status": "Default",
          "x1": 47,
          "x2": 48.9
         },
         {
          "level": 8,
          "sf": "rand(::Int64) at Random.jl:277",
          "status": "Default",
          "x1": 53,
          "x2": 59.9
         },
         {
          "level": 9,
          "sf": "rand(::Type{Float64}, ::Tuple{Int64}) at Random.jl:289",
          "status": "Default",
          "x1": 53,
          "x2": 59.9
         },
         {
          "level": 10,
          "sf": "rand at Random.jl:288 [inlined]",
          "status": "Default",
          "x1": 53,
          "x2": 59.9
         },
         {
          "level": 11,
          "sf": "rand! at Random.jl:267 [inlined]",
          "status": "Default",
          "x1": 53,
          "x2": 59.9
         },
         {
          "level": 12,
          "sf": "rand! at RNGs.jl:513 [inlined]",
          "status": "Default",
          "x1": 53,
          "x2": 59.9
         },
         {
          "level": 13,
          "sf": "_rand! at RNGs.jl:507 [inlined]",
          "status": "Default",
          "x1": 53,
          "x2": 59.9
         },
         {
          "level": 14,
          "sf": "rand!(::MersenneTwister, ::Random.UnsafeView{Float64}, ::Random.SamplerTrivial{Random.CloseOpen01{Float64},Float64}) at RNGs.jl:495",
          "status": "Default",
          "x1": 53,
          "x2": 59.9
         },
         {
          "level": 15,
          "sf": "fill_array! at RNGs.jl:469 [inlined]",
          "status": "Default",
          "x1": 53,
          "x2": 59.9
         },
         {
          "level": 16,
          "sf": "dsfmt_fill_array_close_open!(::Random.DSFMT.DSFMT_state, ::Ptr{Float64}, ::Int64) at DSFMT.jl:95",
          "status": "Default",
          "x1": 53,
          "x2": 59.9
         }
        ]
       },
       "encoding": {
        "color": {
         "field": "status",
         "legend": {
          "orient": "bottom",
          "title": null
         },
         "type": "nominal"
        },
        "fillOpacity": {
         "condition": [
          {
           "selection": "highlight",
           "value": 0.6
          },
          {
           "selection": "select",
           "value": 0.5
          }
         ],
         "value": 1
        },
        "strokeWidth": {
         "condition": [
          {
           "selection": "highlight",
           "value": 0.5
          },
          {
           "selection": "select",
           "value": 0.5
          }
         ],
         "value": 0
        },
        "tooltip": {
         "field": "sf",
         "type": "nominal"
        },
        "x": {
         "axis": null,
         "field": "x1",
         "type": "quantitative"
        },
        "x2": {
         "field": "x2",
         "type": "quantitative"
        },
        "y": {
         "axis": null,
         "field": "level",
         "type": "quantitative"
        },
        "y2": {
         "field": "level2",
         "type": "quantitative"
        }
       },
       "height": 400,
       "mark": {
        "stroke": "#505050",
        "type": "rect"
       },
       "selection": {
        "grid": {
         "bind": "scales",
         "type": "interval"
        },
        "highlight": {
         "empty": "none",
         "on": "mouseover",
         "type": "single"
        },
        "select": {
         "empty": "none",
         "type": "multi"
        }
       },
       "title": "Profile Results",
       "transform": [
        {
         "as": "level2",
         "calculate": "datum.level+0.9"
        }
       ],
       "width": 800
      },
      "image/png": "[encoded data removed]",
      "image/svg+xml": [
       "<?xml version=\"1.0\" encoding=\"utf-8\"?>\n",
       "<!DOCTYPE svg PUBLIC \"-//W3C//DTD SVG 1.1//EN\" \"http://www.w3.org/Graphics/SVG/1.1/DTD/svg11.dtd\">\n",
       "<svg xmlns=\"http://www.w3.org/2000/svg\" xmlns:xlink=\"http://www.w3.org/1999/xlink\" version=\"1.1\" class=\"marks\" width=\"810\" height=\"458\" viewBox=\"0 0 810 458\"><rect width=\"810\" height=\"458\" fill=\"white\"/><g fill=\"none\" stroke-miterlimit=\"10\" transform=\"translate(5,22)\"><g class=\"mark-group role-frame root\" role=\"graphics-object\" aria-roledescription=\"group mark container\"><g transform=\"translate(0,0)\"><path class=\"background\" aria-hidden=\"true\" d=\"M0.5,0.5h800v400h-800Z\" stroke=\"#ddd\"/><g><g class=\"mark-rect role-mark marks\" clip-path=\"url(#clip1)\" role=\"graphics-object\" aria-roledescription=\"rect mark container\"><path aria-label=\"x1: 1; x2: 59.9; level: 0; level2: 0.9; status: Runtime dispatch; sf: ip:0x0\" role=\"graphics-symbol\" aria-roledescription=\"rect mark\" d=\"M13.333333333333334,389.7142857142857h785.3333333333333v10.285714285714278h-785.3333333333333Z\" fill=\"#e45756\" fill-opacity=\"1\" stroke=\"#505050\" stroke-width=\"0\"/><path aria-label=\"x1: 1; x2: 4.9; level: 1; level2: 1.9; status: Default; sf: one_iteration_michelot(::Array{Float64,1}, ::Int64) at In[24]:3\" role=\"graphics-symbol\" aria-roledescription=\"rect mark\" d=\"M13.333333333333334,378.2857142857143h52.00000000000001v10.285714285714278h-52.00000000000001Z\" fill=\"#4c78a8\" fill-opacity=\"1\" stroke=\"#505050\" stroke-width=\"0\"/><path aria-label=\"x1: 5; x2: 59.9; level: 1; level2: 1.9; status: Default; sf: (::IJulia.var&quot;#15#18&quot;)() at task.jl:356\" role=\"graphics-symbol\" aria-roledescription=\"rect mark\" d=\"M66.66666666666666,378.2857142857143h732v10.285714285714278h-732Z\" fill=\"#4c78a8\" fill-opacity=\"1\" stroke=\"#505050\" stroke-width=\"0\"/><path aria-label=\"x1: 5; x2: 59.9; level: 2; level2: 2.9; status: Default; sf: eventloop(::ZMQ.Socket) at eventloop.jl:8\" role=\"graphics-symbol\" aria-roledescription=\"rect mark\" d=\"M66.66666666666666,366.85714285714283h732v10.285714285714278h-732Z\" fill=\"#4c78a8\" fill-opacity=\"1\" stroke=\"#505050\" stroke-width=\"0\"/><path aria-label=\"x1: 5; x2: 59.9; level: 3; level2: 3.9; status: Default; sf: invokelatest at essentials.jl:709 [inlined]\" role=\"graphics-symbol\" aria-roledescription=\"rect mark\" d=\"M66.66666666666666,355.42857142857144h732v10.285714285714278h-732Z\" fill=\"#4c78a8\" fill-opacity=\"1\" stroke=\"#505050\" stroke-width=\"0\"/><path aria-label=\"x1: 5; x2: 59.9; level: 4; level2: 4.9; status: Runtime dispatch; sf: #invokelatest#1 at essentials.jl:710 [inlined]\" role=\"graphics-symbol\" aria-roledescription=\"rect mark\" d=\"M66.66666666666666,344h732v10.285714285714278h-732Z\" fill=\"#e45756\" fill-opacity=\"1\" stroke=\"#505050\" stroke-width=\"0\"/><path aria-label=\"x1: 5; x2: 59.9; level: 5; level2: 5.9; status: Runtime dispatch; sf: execute_request(::ZMQ.Socket, ::IJulia.Msg) at execute_request.jl:67\" role=\"graphics-symbol\" aria-roledescription=\"rect mark\" d=\"M66.66666666666666,332.57142857142856h732v10.285714285714334h-732Z\" fill=\"#e45756\" fill-opacity=\"1\" stroke=\"#505050\" stroke-width=\"0\"/><path aria-label=\"x1: 5; x2: 59.9; level: 6; level2: 6.9; status: Default; sf: softscope_include_string(::Module, ::String, ::String) at SoftGlobalScope.jl:65\" role=\"graphics-symbol\" aria-roledescription=\"rect mark\" d=\"M66.66666666666666,321.1428571428571h732v10.285714285714278h-732Z\" fill=\"#4c78a8\" fill-opacity=\"1\" stroke=\"#505050\" stroke-width=\"0\"/><path aria-label=\"x1: 5; x2: 59.9; level: 7; level2: 7.9; status: Runtime dispatch; sf: include_string(::Function, ::Module, ::String, ::String) at loading.jl:1091\" role=\"graphics-symbol\" aria-roledescription=\"rect mark\" d=\"M66.66666666666666,309.7142857142857h732v10.285714285714278h-732Z\" fill=\"#e45756\" fill-opacity=\"1\" stroke=\"#505050\" stroke-width=\"0\"/><path aria-label=\"x1: 5; x2: 5.9; level: 8; level2: 8.9; status: Default; sf: one_iteration_michelot(::Array{Float64,1}, ::Int64) at In[24]:2\" role=\"graphics-symbol\" aria-roledescription=\"rect mark\" d=\"M66.66666666666666,298.28571428571433h12.000000000000014v10.285714285714278h-12.000000000000014Z\" fill=\"#4c78a8\" fill-opacity=\"1\" stroke=\"#505050\" stroke-width=\"0\"/><path aria-label=\"x1: 5; x2: 5.9; level: 9; level2: 9.9; status: Default; sf: sum at reducedim.jl:722 [inlined]\" role=\"graphics-symbol\" aria-roledescription=\"rect mark\" d=\"M66.66666666666666,286.85714285714283h12.000000000000014v10.285714285714334h-12.000000000000014Z\" fill=\"#4c78a8\" fill-opacity=\"1\" stroke=\"#505050\" stroke-width=\"0\"/><path aria-label=\"x1: 5; x2: 5.9; level: 10; level2: 10.9; status: Default; sf: #sum#627 at reducedim.jl:722 [inlined]\" role=\"graphics-symbol\" aria-roledescription=\"rect mark\" d=\"M66.66666666666666,275.42857142857144h12.000000000000014v10.285714285714278h-12.000000000000014Z\" fill=\"#4c78a8\" fill-opacity=\"1\" stroke=\"#505050\" stroke-width=\"0\"/><path aria-label=\"x1: 5; x2: 5.9; level: 11; level2: 11.9; status: Default; sf: _sum at reducedim.jl:726 [inlined]\" role=\"graphics-symbol\" aria-roledescription=\"rect mark\" d=\"M66.66666666666666,263.99999999999994h12.000000000000014v10.285714285714334h-12.000000000000014Z\" fill=\"#4c78a8\" fill-opacity=\"1\" stroke=\"#505050\" stroke-width=\"0\"/><path aria-label=\"x1: 5; x2: 5.9; level: 12; level2: 12.9; status: Default; sf: _sum at reducedim.jl:727 [inlined]\" role=\"graphics-symbol\" aria-roledescription=\"rect mark\" d=\"M66.66666666666666,252.57142857142858h12.000000000000014v10.28571428571425h-12.000000000000014Z\" fill=\"#4c78a8\" fill-opacity=\"1\" stroke=\"#505050\" stroke-width=\"0\"/><path aria-label=\"x1: 5; x2: 5.9; level: 13; level2: 13.9; status: Default; sf: mapreduce at reducedim.jl:310 [inlined]\" role=\"graphics-symbol\" aria-roledescription=\"rect mark\" d=\"M66.66666666666666,241.14285714285714h12.000000000000014v10.285714285714278h-12.000000000000014Z\" fill=\"#4c78a8\" fill-opacity=\"1\" stroke=\"#505050\" stroke-width=\"0\"/><path aria-label=\"x1: 5; x2: 5.9; level: 14; level2: 14.9; status: Default; sf: #mapreduce#620 at reducedim.jl:310 [inlined]\" role=\"graphics-symbol\" aria-roledescription=\"rect mark\" d=\"M66.66666666666666,229.71428571428572h12.000000000000014v10.285714285714278h-12.000000000000014Z\" fill=\"#4c78a8\" fill-opacity=\"1\" stroke=\"#505050\" stroke-width=\"0\"/><path aria-label=\"x1: 5; x2: 5.9; level: 15; level2: 15.9; status: Default; sf: _mapreduce_dim at reducedim.jl:318 [inlined]\" role=\"graphics-symbol\" aria-roledescription=\"rect mark\" d=\"M66.66666666666666,218.28571428571428h12.000000000000014v10.285714285714278h-12.000000000000014Z\" fill=\"#4c78a8\" fill-opacity=\"1\" stroke=\"#505050\" stroke-width=\"0\"/><path aria-label=\"x1: 5; x2: 5.9; level: 16; level2: 16.9; status: Default; sf: _mapreduce at reduce.jl:415 [inlined]\" role=\"graphics-symbol\" aria-roledescription=\"rect mark\" d=\"M66.66666666666666,206.85714285714286h12.000000000000014v10.285714285714306h-12.000000000000014Z\" fill=\"#4c78a8\" fill-opacity=\"1\" stroke=\"#505050\" stroke-width=\"0\"/><path aria-label=\"x1: 5; x2: 5.9; level: 17; level2: 17.9; status: Default; sf: mapreduce_impl at reduce.jl:257 [inlined]\" role=\"graphics-symbol\" aria-roledescription=\"rect mark\" d=\"M66.66666666666666,195.42857142857147h12.000000000000014v10.28571428571422h-12.000000000000014Z\" fill=\"#4c78a8\" fill-opacity=\"1\" stroke=\"#505050\" stroke-width=\"0\"/><path aria-label=\"x1: 5; x2: 5.9; level: 18; level2: 18.9; status: Default; sf: mapreduce_impl(::typeof(identity), ::typeof(Base.add_sum), ::Array{Float64,1}, ::Int64, ::Int64, ::Int64) at reduce.jl:251\" role=\"graphics-symbol\" aria-roledescription=\"rect mark\" d=\"M66.66666666666666,184.00000000000003h12.000000000000014v10.285714285714278h-12.000000000000014Z\" fill=\"#4c78a8\" fill-opacity=\"1\" stroke=\"#505050\" stroke-width=\"0\"/><path aria-label=\"x1: 5; x2: 5.9; level: 19; level2: 19.9; status: Default; sf: mapreduce_impl(::typeof(identity), ::typeof(Base.add_sum), ::Array{Float64,1}, ::Int64, ::Int64, ::Int64) at reduce.jl:252\" role=\"graphics-symbol\" aria-roledescription=\"rect mark\" d=\"M66.66666666666666,172.5714285714286h12.000000000000014v10.28571428571425h-12.000000000000014Z\" fill=\"#4c78a8\" fill-opacity=\"1\" stroke=\"#505050\" stroke-width=\"0\"/><path aria-label=\"x1: 5; x2: 5.9; level: 20; level2: 20.9; status: Default; sf: mapreduce_impl(::typeof(identity), ::typeof(Base.add_sum), ::Array{Float64,1}, ::Int64, ::Int64, ::Int64) at reduce.jl:252\" role=\"graphics-symbol\" aria-roledescription=\"rect mark\" d=\"M66.66666666666666,161.14285714285717h12.000000000000014v10.285714285714278h-12.000000000000014Z\" fill=\"#4c78a8\" fill-opacity=\"1\" stroke=\"#505050\" stroke-width=\"0\"/><path aria-label=\"x1: 5; x2: 5.9; level: 21; level2: 21.9; status: Default; sf: mapreduce_impl(::typeof(identity), ::typeof(Base.add_sum), ::Array{Float64,1}, ::Int64, ::Int64, ::Int64) at reduce.jl:251\" role=\"graphics-symbol\" aria-roledescription=\"rect mark\" d=\"M66.66666666666666,149.71428571428572h12.000000000000014v10.285714285714278h-12.000000000000014Z\" fill=\"#4c78a8\" fill-opacity=\"1\" stroke=\"#505050\" stroke-width=\"0\"/><path aria-label=\"x1: 5; x2: 5.9; level: 22; level2: 22.9; status: Default; sf: mapreduce_impl(::typeof(identity), ::typeof(Base.add_sum), ::Array{Float64,1}, ::Int64, ::Int64, ::Int64) at reduce.jl:252\" role=\"graphics-symbol\" aria-roledescription=\"rect mark\" d=\"M66.66666666666666,138.2857142857143h12.000000000000014v10.285714285714278h-12.000000000000014Z\" fill=\"#4c78a8\" fill-opacity=\"1\" stroke=\"#505050\" stroke-width=\"0\"/><path aria-label=\"x1: 5; x2: 5.9; level: 23; level2: 23.9; status: Default; sf: mapreduce_impl(::typeof(identity), ::typeof(Base.add_sum), ::Array{Float64,1}, ::Int64, ::Int64, ::Int64) at reduce.jl:251\" role=\"graphics-symbol\" aria-roledescription=\"rect mark\" d=\"M66.66666666666666,126.85714285714286h12.000000000000014v10.285714285714278h-12.000000000000014Z\" fill=\"#4c78a8\" fill-opacity=\"1\" stroke=\"#505050\" stroke-width=\"0\"/><path aria-label=\"x1: 5; x2: 5.9; level: 24; level2: 24.9; status: Default; sf: mapreduce_impl(::typeof(identity), ::typeof(Base.add_sum), ::Array{Float64,1}, ::Int64, ::Int64, ::Int64) at reduce.jl:251\" role=\"graphics-symbol\" aria-roledescription=\"rect mark\" d=\"M66.66666666666666,115.42857142857143h12.000000000000014v10.285714285714278h-12.000000000000014Z\" fill=\"#4c78a8\" fill-opacity=\"1\" stroke=\"#505050\" stroke-width=\"0\"/><path aria-label=\"x1: 5; x2: 5.9; level: 25; level2: 25.9; status: Default; sf: mapreduce_impl(::typeof(identity), ::typeof(Base.add_sum), ::Array{Float64,1}, ::Int64, ::Int64, ::Int64) at reduce.jl:251\" role=\"graphics-symbol\" aria-roledescription=\"rect mark\" d=\"M66.66666666666666,104h12.000000000000014v10.285714285714278h-12.000000000000014Z\" fill=\"#4c78a8\" fill-opacity=\"1\" stroke=\"#505050\" stroke-width=\"0\"/><path aria-label=\"x1: 5; x2: 5.9; level: 26; level2: 26.9; status: Default; sf: mapreduce_impl(::typeof(identity), ::typeof(Base.add_sum), ::Array{Float64,1}, ::Int64, ::Int64, ::Int64) at reduce.jl:251\" role=\"graphics-symbol\" aria-roledescription=\"rect mark\" d=\"M66.66666666666666,92.57142857142857h12.000000000000014v10.285714285714278h-12.000000000000014Z\" fill=\"#4c78a8\" fill-opacity=\"1\" stroke=\"#505050\" stroke-width=\"0\"/><path aria-label=\"x1: 5; x2: 5.9; level: 27; level2: 27.9; status: Default; sf: mapreduce_impl(::typeof(identity), ::typeof(Base.add_sum), ::Array{Float64,1}, ::Int64, ::Int64, ::Int64) at reduce.jl:252\" role=\"graphics-symbol\" aria-roledescription=\"rect mark\" d=\"M66.66666666666666,81.14285714285714h12.000000000000014v10.285714285714278h-12.000000000000014Z\" fill=\"#4c78a8\" fill-opacity=\"1\" stroke=\"#505050\" stroke-width=\"0\"/><path aria-label=\"x1: 5; x2: 5.9; level: 28; level2: 28.9; status: Default; sf: mapreduce_impl(::typeof(identity), ::typeof(Base.add_sum), ::Array{Float64,1}, ::Int64, ::Int64, ::Int64) at reduce.jl:243\" role=\"graphics-symbol\" aria-roledescription=\"rect mark\" d=\"M66.66666666666666,69.71428571428575h12.000000000000014v10.285714285714235h-12.000000000000014Z\" fill=\"#4c78a8\" fill-opacity=\"1\" stroke=\"#505050\" stroke-width=\"0\"/><path aria-label=\"x1: 5; x2: 5.9; level: 29; level2: 29.9; status: Default; sf: macro expansion at simdloop.jl:77 [inlined]\" role=\"graphics-symbol\" aria-roledescription=\"rect mark\" d=\"M66.66666666666666,58.28571428571432h12.000000000000014v10.285714285714235h-12.000000000000014Z\" fill=\"#4c78a8\" fill-opacity=\"1\" stroke=\"#505050\" stroke-width=\"0\"/><path aria-label=\"x1: 5; x2: 5.9; level: 30; level2: 30.9; status: Default; sf: macro expansion at reduce.jl:245 [inlined]\" role=\"graphics-symbol\" aria-roledescription=\"rect mark\" d=\"M66.66666666666666,46.85714285714289h12.000000000000014v10.28571428571427h-12.000000000000014Z\" fill=\"#4c78a8\" fill-opacity=\"1\" stroke=\"#505050\" stroke-width=\"0\"/><path aria-label=\"x1: 5; x2: 5.9; level: 31; level2: 31.9; status: Default; sf: add_sum at reduce.jl:27 [inlined]\" role=\"graphics-symbol\" aria-roledescription=\"rect mark\" d=\"M66.66666666666666,35.42857142857145h12.000000000000014v10.285714285714278h-12.000000000000014Z\" fill=\"#4c78a8\" fill-opacity=\"1\" stroke=\"#505050\" stroke-width=\"0\"/><path aria-label=\"x1: 5; x2: 5.9; level: 32; level2: 32.9; status: Default; sf: + at float.jl:401 [inlined]\" role=\"graphics-symbol\" aria-roledescription=\"rect mark\" d=\"M66.66666666666666,24.00000000000002h12.000000000000014v10.285714285714278h-12.000000000000014Z\" fill=\"#4c78a8\" fill-opacity=\"1\" stroke=\"#505050\" stroke-width=\"0\"/><path aria-label=\"x1: 6; x2: 48.9; level: 8; level2: 8.9; status: Default; sf: one_iteration_michelot(::Array{Float64,1}, ::Int64) at In[24]:3\" role=\"graphics-symbol\" aria-roledescription=\"rect mark\" d=\"M80,298.28571428571433h572v10.285714285714278h-572Z\" fill=\"#4c78a8\" fill-opacity=\"1\" stroke=\"#505050\" stroke-width=\"0\"/><path aria-label=\"x1: 6; x2: 23.9; level: 9; level2: 9.9; status: Default; sf: variable_check(::Array{Float64,1}, ::Float64) at In[15]:4\" role=\"graphics-symbol\" aria-roledescription=\"rect mark\" d=\"M80,286.85714285714283h238.66666666666663v10.285714285714334h-238.66666666666663Z\" fill=\"#4c78a8\" fill-opacity=\"1\" stroke=\"#505050\" stroke-width=\"0\"/><path aria-label=\"x1: 6; x2: 6.9; level: 10; level2: 10.9; status: Default; sf: popfirst! at array.jl:1254 [inlined]\" role=\"graphics-symbol\" aria-roledescription=\"rect mark\" d=\"M80,275.42857142857144h12v10.285714285714278h-12Z\" fill=\"#4c78a8\" fill-opacity=\"1\" stroke=\"#505050\" stroke-width=\"0\"/><path aria-label=\"x1: 6; x2: 6.9; level: 11; level2: 11.9; status: Default; sf: isempty at abstractarray.jl:989 [inlined]\" role=\"graphics-symbol\" aria-roledescription=\"rect mark\" d=\"M80,263.99999999999994h12v10.285714285714334h-12Z\" fill=\"#4c78a8\" fill-opacity=\"1\" stroke=\"#505050\" stroke-width=\"0\"/><path aria-label=\"x1: 6; x2: 6.9; level: 12; level2: 12.9; status: Default; sf: length at array.jl:219 [inlined]\" role=\"graphics-symbol\" aria-roledescription=\"rect mark\" d=\"M80,252.57142857142858h12v10.28571428571425h-12Z\" fill=\"#4c78a8\" fill-opacity=\"1\" stroke=\"#505050\" stroke-width=\"0\"/><path aria-label=\"x1: 7; x2: 8.9; level: 10; level2: 10.9; status: Default; sf: popfirst! at array.jl:1257 [inlined]\" role=\"graphics-symbol\" aria-roledescription=\"rect mark\" d=\"M93.33333333333333,275.42857142857144h25.333333333333343v10.285714285714278h-25.333333333333343Z\" fill=\"#4c78a8\" fill-opacity=\"1\" stroke=\"#505050\" stroke-width=\"0\"/><path aria-label=\"x1: 7; x2: 8.9; level: 11; level2: 11.9; status: Default; sf: getindex at array.jl:809 [inlined]\" role=\"graphics-symbol\" aria-roledescription=\"rect mark\" d=\"M93.33333333333333,263.99999999999994h25.333333333333343v10.285714285714334h-25.333333333333343Z\" fill=\"#4c78a8\" fill-opacity=\"1\" stroke=\"#505050\" stroke-width=\"0\"/><path aria-label=\"x1: 9; x2: 23.9; level: 10; level2: 10.9; status: Default; sf: popfirst! at array.jl:1258 [inlined]\" role=\"graphics-symbol\" aria-roledescription=\"rect mark\" d=\"M120,275.42857142857144h198.66666666666663v10.285714285714278h-198.66666666666663Z\" fill=\"#4c78a8\" fill-opacity=\"1\" stroke=\"#505050\" stroke-width=\"0\"/><path aria-label=\"x1: 9; x2: 23.9; level: 11; level2: 11.9; status: Default; sf: _deletebeg! at array.jl:899 [inlined]\" role=\"graphics-symbol\" aria-roledescription=\"rect mark\" d=\"M120,263.99999999999994h198.66666666666663v10.285714285714334h-198.66666666666663Z\" fill=\"#4c78a8\" fill-opacity=\"1\" stroke=\"#505050\" stroke-width=\"0\"/><path aria-label=\"x1: 24; x2: 48.9; level: 9; level2: 9.9; status: Default; sf: variable_check(::Array{Float64,1}, ::Float64) at In[15]:6\" role=\"graphics-symbol\" aria-roledescription=\"rect mark\" d=\"M320,286.85714285714283h332v10.285714285714334h-332Z\" fill=\"#4c78a8\" fill-opacity=\"1\" stroke=\"#505050\" stroke-width=\"0\"/><path aria-label=\"x1: 24; x2: 46.9; level: 10; level2: 10.9; status: Default; sf: push! at array.jl:935 [inlined]\" role=\"graphics-symbol\" aria-roledescription=\"rect mark\" d=\"M320,275.42857142857144h305.33333333333326v10.285714285714278h-305.33333333333326Z\" fill=\"#4c78a8\" fill-opacity=\"1\" stroke=\"#505050\" stroke-width=\"0\"/><path aria-label=\"x1: 24; x2: 46.9; level: 11; level2: 11.9; status: Garbage collection; sf: _growend! at array.jl:892 [inlined]\" role=\"graphics-symbol\" aria-roledescription=\"rect mark\" d=\"M320,263.99999999999994h305.33333333333326v10.285714285714334h-305.33333333333326Z\" fill=\"#f58518\" fill-opacity=\"1\" stroke=\"#505050\" stroke-width=\"0\"/><path aria-label=\"x1: 47; x2: 48.9; level: 10; level2: 10.9; status: Default; sf: iterate at range.jl:624 [inlined]\" role=\"graphics-symbol\" aria-roledescription=\"rect mark\" d=\"M626.6666666666666,275.42857142857144h25.33333333333337v10.285714285714278h-25.33333333333337Z\" fill=\"#4c78a8\" fill-opacity=\"1\" stroke=\"#505050\" stroke-width=\"0\"/><path aria-label=\"x1: 47; x2: 48.9; level: 11; level2: 11.9; status: Default; sf: == at promotion.jl:398 [inlined]\" role=\"graphics-symbol\" aria-roledescription=\"rect mark\" d=\"M626.6666666666666,263.99999999999994h25.33333333333337v10.285714285714334h-25.33333333333337Z\" fill=\"#4c78a8\" fill-opacity=\"1\" stroke=\"#505050\" stroke-width=\"0\"/><path aria-label=\"x1: 53; x2: 59.9; level: 8; level2: 8.9; status: Default; sf: rand(::Int64) at Random.jl:277\" role=\"graphics-symbol\" aria-roledescription=\"rect mark\" d=\"M706.6666666666666,298.28571428571433h92v10.285714285714278h-92Z\" fill=\"#4c78a8\" fill-opacity=\"1\" stroke=\"#505050\" stroke-width=\"0\"/><path aria-label=\"x1: 53; x2: 59.9; level: 9; level2: 9.9; status: Default; sf: rand(::Type{Float64}, ::Tuple{Int64}) at Random.jl:289\" role=\"graphics-symbol\" aria-roledescription=\"rect mark\" d=\"M706.6666666666666,286.85714285714283h92v10.285714285714334h-92Z\" fill=\"#4c78a8\" fill-opacity=\"1\" stroke=\"#505050\" stroke-width=\"0\"/><path aria-label=\"x1: 53; x2: 59.9; level: 10; level2: 10.9; status: Default; sf: rand at Random.jl:288 [inlined]\" role=\"graphics-symbol\" aria-roledescription=\"rect mark\" d=\"M706.6666666666666,275.42857142857144h92v10.285714285714278h-92Z\" fill=\"#4c78a8\" fill-opacity=\"1\" stroke=\"#505050\" stroke-width=\"0\"/><path aria-label=\"x1: 53; x2: 59.9; level: 11; level2: 11.9; status: Default; sf: rand! at Random.jl:267 [inlined]\" role=\"graphics-symbol\" aria-roledescription=\"rect mark\" d=\"M706.6666666666666,263.99999999999994h92v10.285714285714334h-92Z\" fill=\"#4c78a8\" fill-opacity=\"1\" stroke=\"#505050\" stroke-width=\"0\"/><path aria-label=\"x1: 53; x2: 59.9; level: 12; level2: 12.9; status: Default; sf: rand! at RNGs.jl:513 [inlined]\" role=\"graphics-symbol\" aria-roledescription=\"rect mark\" d=\"M706.6666666666666,252.57142857142858h92v10.28571428571425h-92Z\" fill=\"#4c78a8\" fill-opacity=\"1\" stroke=\"#505050\" stroke-width=\"0\"/><path aria-label=\"x1: 53; x2: 59.9; level: 13; level2: 13.9; status: Default; sf: _rand! at RNGs.jl:507 [inlined]\" role=\"graphics-symbol\" aria-roledescription=\"rect mark\" d=\"M706.6666666666666,241.14285714285714h92v10.285714285714278h-92Z\" fill=\"#4c78a8\" fill-opacity=\"1\" stroke=\"#505050\" stroke-width=\"0\"/><path aria-label=\"x1: 53; x2: 59.9; level: 14; level2: 14.9; status: Default; sf: rand!(::MersenneTwister, ::Random.UnsafeView{Float64}, ::Random.SamplerTrivial{Random.CloseOpen01{Float64},Float64}) at RNGs.jl:495\" role=\"graphics-symbol\" aria-roledescription=\"rect mark\" d=\"M706.6666666666666,229.71428571428572h92v10.285714285714278h-92Z\" fill=\"#4c78a8\" fill-opacity=\"1\" stroke=\"#505050\" stroke-width=\"0\"/><path aria-label=\"x1: 53; x2: 59.9; level: 15; level2: 15.9; status: Default; sf: fill_array! at RNGs.jl:469 [inlined]\" role=\"graphics-symbol\" aria-roledescription=\"rect mark\" d=\"M706.6666666666666,218.28571428571428h92v10.285714285714278h-92Z\" fill=\"#4c78a8\" fill-opacity=\"1\" stroke=\"#505050\" stroke-width=\"0\"/><path aria-label=\"x1: 53; x2: 59.9; level: 16; level2: 16.9; status: Default; sf: dsfmt_fill_array_close_open!(::Random.DSFMT.DSFMT_state, ::Ptr{Float64}, ::Int64) at DSFMT.jl:95\" role=\"graphics-symbol\" aria-roledescription=\"rect mark\" d=\"M706.6666666666666,206.85714285714286h92v10.285714285714306h-92Z\" fill=\"#4c78a8\" fill-opacity=\"1\" stroke=\"#505050\" stroke-width=\"0\"/></g><g class=\"mark-group role-legend\" role=\"graphics-symbol\" aria-roledescription=\"legend\" aria-label=\"Symbol legend for fill color with 3 values: Default, Garbage collection, Runtime dispatch\"><g transform=\"translate(0,418)\"><path class=\"background\" aria-hidden=\"true\" d=\"M0,0h288v13h-288Z\" pointer-events=\"none\"/><g><g class=\"mark-group role-legend-entry\"><g transform=\"translate(0,0)\"><path class=\"background\" aria-hidden=\"true\" d=\"M0,0h0v0h0Z\" pointer-events=\"none\"/><g><g class=\"mark-group role-scope\" role=\"graphics-object\" aria-roledescription=\"group mark container\"><g transform=\"translate(0,0.25)\"><path class=\"background\" aria-hidden=\"true\" d=\"M0,0h53v12.5h-53Z\" pointer-events=\"none\" opacity=\"1\"/><g><g class=\"mark-symbol role-legend-symbol\" pointer-events=\"none\"><path transform=\"translate(6,6)\" d=\"M-5,-5h10v10h-10Z\" fill=\"#4c78a8\" stroke=\"#505050\" stroke-width=\"1.5\" opacity=\"1\"/></g><g class=\"mark-text role-legend-label\" pointer-events=\"none\"><text text-anchor=\"start\" transform=\"translate(16,9)\" font-family=\"sans-serif\" font-size=\"10px\" fill=\"#000\" opacity=\"1\">Default</text></g></g><path class=\"foreground\" aria-hidden=\"true\" d=\"\" pointer-events=\"none\" display=\"none\"/></g><g transform=\"translate(64,0.25)\"><path class=\"background\" aria-hidden=\"true\" d=\"M0,0h110v12.5h-110Z\" pointer-events=\"none\" opacity=\"1\"/><g><g class=\"mark-symbol role-legend-symbol\" pointer-events=\"none\"><path transform=\"translate(6,6)\" d=\"M-5,-5h10v10h-10Z\" fill=\"#f58518\" stroke=\"#505050\" stroke-width=\"1.5\" opacity=\"1\"/></g><g class=\"mark-text role-legend-label\" pointer-events=\"none\"><text text-anchor=\"start\" transform=\"translate(16,9)\" font-family=\"sans-serif\" font-size=\"10px\" fill=\"#000\" opacity=\"1\">Garbage collection</text></g></g><path class=\"foreground\" aria-hidden=\"true\" d=\"\" pointer-events=\"none\" display=\"none\"/></g><g transform=\"translate(185,0.25)\"><path class=\"background\" aria-hidden=\"true\" d=\"M0,0h103v12.5h-103Z\" pointer-events=\"none\" opacity=\"1\"/><g><g class=\"mark-symbol role-legend-symbol\" pointer-events=\"none\"><path transform=\"translate(6,6)\" d=\"M-5,-5h10v10h-10Z\" fill=\"#e45756\" stroke=\"#505050\" stroke-width=\"1.5\" opacity=\"1\"/></g><g class=\"mark-text role-legend-label\" pointer-events=\"none\"><text text-anchor=\"start\" transform=\"translate(16,9)\" font-family=\"sans-serif\" font-size=\"10px\" fill=\"#000\" opacity=\"1\">Runtime dispatch</text></g></g><path class=\"foreground\" aria-hidden=\"true\" d=\"\" pointer-events=\"none\" display=\"none\"/></g></g></g><path class=\"foreground\" aria-hidden=\"true\" d=\"\" pointer-events=\"none\" display=\"none\"/></g></g></g><path class=\"foreground\" aria-hidden=\"true\" d=\"\" pointer-events=\"none\" display=\"none\"/></g></g><g class=\"mark-group role-title\"><g transform=\"translate(400,-17)\"><path class=\"background\" aria-hidden=\"true\" d=\"M0,0h0v0h0Z\" pointer-events=\"none\"/><g><g class=\"mark-text role-title-text\" role=\"graphics-symbol\" aria-roledescription=\"title\" aria-label=\"Title text 'Profile Results'\" pointer-events=\"none\"><text text-anchor=\"middle\" transform=\"translate(0,10)\" font-family=\"sans-serif\" font-size=\"13px\" font-weight=\"bold\" fill=\"#000\" opacity=\"1\">Profile Results</text></g></g><path class=\"foreground\" aria-hidden=\"true\" d=\"\" pointer-events=\"none\" display=\"none\"/></g></g></g><path class=\"foreground\" aria-hidden=\"true\" d=\"\" display=\"none\"/></g></g></g><defs><clipPath id=\"clip1\"><rect x=\"0\" y=\"0\" width=\"800\" height=\"400\"/></clipPath></defs></svg>\n"
      ],
      "text/plain": [
       "@vlplot(\n",
       "    mark={\n",
       "        type=\"rect\",\n",
       "        stroke=\"#505050\"\n",
       "    },\n",
       "    transform=[\n",
       "        {\n",
       "            calculate=\"datum.level+0.9\",\n",
       "            as=\"level2\"\n",
       "        }\n",
       "    ],\n",
       "    selection={\n",
       "        grid={\n",
       "            type=\"interval\",\n",
       "            bind=\"scales\"\n",
       "        },\n",
       "        highlight={\n",
       "            type=\"single\",\n",
       "            on=\"mouseover\",\n",
       "            empty=\"none\"\n",
       "        },\n",
       "        select={\n",
       "            type=\"multi\",\n",
       "            empty=\"none\"\n",
       "        }\n",
       "    },\n",
       "    width=800,\n",
       "    height=400,\n",
       "    title=\"Profile Results\",\n",
       "    encoding={\n",
       "        x={\n",
       "            axis=nothing,\n",
       "            field=\"x1\"\n",
       "        },\n",
       "        x2={\n",
       "            field=\"x2\"\n",
       "        },\n",
       "        y={\n",
       "            axis=nothing,\n",
       "            field=\"level\",\n",
       "            type=\"quantitative\"\n",
       "        },\n",
       "        y2={\n",
       "            field=\"level2\",\n",
       "            type=\"quantitative\"\n",
       "        },\n",
       "        fillOpacity={\n",
       "            condition=[\n",
       "                {\n",
       "                    selection=\"highlight\",\n",
       "                    value=0.6\n",
       "                },\n",
       "                {\n",
       "                    selection=\"select\",\n",
       "                    value=0.5\n",
       "                }\n",
       "            ],\n",
       "            value=1\n",
       "        },\n",
       "        strokeWidth={\n",
       "            condition=[\n",
       "                {\n",
       "                    selection=\"highlight\",\n",
       "                    value=0.5\n",
       "                },\n",
       "                {\n",
       "                    selection=\"select\",\n",
       "                    value=0.5\n",
       "                }\n",
       "            ],\n",
       "            value=0\n",
       "        },\n",
       "        color={\n",
       "            legend={\n",
       "                title=nothing,\n",
       "                orient=\"bottom\"\n",
       "            },\n",
       "            field=\"status\",\n",
       "            type=\"nominal\"\n",
       "        },\n",
       "        tooltip={\n",
       "            field=\"sf\"\n",
       "        }\n",
       "    },\n",
       "    data={\n",
       "        values=...\n",
       "    }\n",
       ")"
      ]
     },
     "execution_count": 29,
     "metadata": {},
     "output_type": "execute_result"
    }
   ],
   "source": [
    "ProfileVega.view()"
   ]
  },
  {
   "cell_type": "code",
   "execution_count": 30,
   "id": "1f949838",
   "metadata": {},
   "outputs": [
    {
     "name": "stdout",
     "output_type": "stream",
     "text": [
      "Overhead ╎ [+additional indent] Count File:Line; Function\n",
      "=========================================================\n",
      " 4╎4   In[24]:3; one_iteration_michelot(::Array{Fl...\n",
      "  ╎55  @Base/task.jl:356; (::IJulia.var\"#15#18\")()\n",
      "  ╎ 55  @IJulia/src/eventloop.jl:8; eventloop(::ZMQ.Socket)\n",
      "  ╎  55  @Base/essentials.jl:709; invokelatest\n",
      "  ╎   55  @Base/essentials.jl:710; #invokelatest#1\n",
      "  ╎    55  .../execute_request.jl:67; execute_request(::ZMQ.Socket, :...\n",
      "  ╎     55  .../SoftGlobalScope.jl:65; softscope_include_string(::Mod...\n",
      " 4╎    ╎ 55  @Base/loading.jl:1091; include_string(::Function, :...\n",
      "  ╎    ╎  1   In[24]:2; one_iteration_michelot(::Arr...\n",
      "  ╎    ╎   1   @Base/reducedim.jl:722; sum\n",
      "  ╎    ╎    1   @Base/reducedim.jl:722; #sum#627\n",
      "  ╎    ╎     1   @Base/reducedim.jl:726; _sum\n",
      "  ╎    ╎    ╎ 1   @Base/reducedim.jl:727; _sum\n",
      "  ╎    ╎    ╎  1   @Base/reducedim.jl:310; mapreduce\n",
      "  ╎    ╎    ╎   1   @Base/reducedim.jl:310; #mapreduce#620\n",
      "  ╎    ╎    ╎    1   @Base/reducedim.jl:318; _mapreduce_dim\n",
      "  ╎    ╎    ╎     1   @Base/reduce.jl:415; _mapreduce\n",
      "  ╎    ╎    ╎    ╎ 1   @Base/reduce.jl:257; mapreduce_impl\n",
      "  ╎    ╎    ╎    ╎  1   @Base/reduce.jl:251; mapreduce_impl(::typeo...\n",
      "  ╎    ╎    ╎    ╎   1   @Base/reduce.jl:252; mapreduce_impl(::typeo...\n",
      "  ╎    ╎    ╎    ╎    1   @Base/reduce.jl:252; mapreduce_impl(::type...\n",
      "  ╎    ╎    ╎    ╎     1   @Base/reduce.jl:251; mapreduce_impl(::type...\n",
      "  ╎    ╎    ╎    ╎    ╎ 1   @Base/reduce.jl:252; mapreduce_impl(::typ...\n",
      "  ╎    ╎    ╎    ╎    ╎  1   @Base/reduce.jl:251; mapreduce_impl(::ty...\n",
      "  ╎    ╎    ╎    ╎    ╎   1   ...e/reduce.jl:251; mapreduce_impl(::ty...\n",
      "  ╎    ╎    ╎    ╎    ╎    1   ...e/reduce.jl:251; mapreduce_impl(::t...\n",
      "  ╎    ╎    ╎    ╎    ╎     1   ...e/reduce.jl:251; mapreduce_impl(::t...\n",
      "  ╎    ╎    ╎    ╎    ╎    ╎ 1   .../reduce.jl:252; mapreduce_impl(::...\n",
      "  ╎    ╎    ╎    ╎    ╎    ╎  1   .../reduce.jl:243; mapreduce_impl(:...\n",
      "  ╎    ╎    ╎    ╎    ╎    ╎   1   ...imdloop.jl:77; macro expansion\n",
      "  ╎    ╎    ╎    ╎    ╎    ╎    1   ...reduce.jl:245; macro expansion\n",
      "  ╎    ╎    ╎    ╎    ╎    ╎     1   ...reduce.jl:27; add_sum\n",
      " 1╎    ╎    ╎    ╎    ╎    ╎    ╎ 1   .../float.jl:401; +\n",
      "  ╎    ╎  43  In[24]:3; one_iteration_michelot(::Arr...\n",
      "  ╎    ╎   18  In[15]:4; variable_check(::Array{Float6...\n",
      "  ╎    ╎    1   @Base/array.jl:1254; popfirst!\n",
      "  ╎    ╎     1   .../abstractarray.jl:989; isempty\n",
      " 1╎    ╎    ╎ 1   @Base/array.jl:219; length\n",
      "  ╎    ╎    2   @Base/array.jl:1257; popfirst!\n",
      " 2╎    ╎     2   @Base/array.jl:809; getindex\n",
      "  ╎    ╎    15  @Base/array.jl:1258; popfirst!\n",
      "15╎    ╎     15  @Base/array.jl:899; _deletebeg!\n",
      "  ╎    ╎   25  In[15]:6; variable_check(::Array{Float6...\n",
      "  ╎    ╎    23  @Base/array.jl:935; push!\n",
      "23╎    ╎     23  @Base/array.jl:892; _growend!\n",
      "  ╎    ╎    2   @Base/range.jl:624; iterate\n",
      " 2╎    ╎     2   @Base/promotion.jl:398; ==\n",
      "  ╎    ╎  7   ...ndom/src/Random.jl:277; rand(::Int64)\n",
      "  ╎    ╎   7   ...dom/src/Random.jl:289; rand(::Type{Float64}, ::Tupl...\n",
      "  ╎    ╎    7   ...dom/src/Random.jl:288; rand\n",
      "  ╎    ╎     7   ...dom/src/Random.jl:267; rand!\n",
      "  ╎    ╎    ╎ 7   ...ndom/src/RNGs.jl:513; rand!\n",
      "  ╎    ╎    ╎  7   ...ndom/src/RNGs.jl:507; _rand!\n",
      "  ╎    ╎    ╎   7   ...dom/src/RNGs.jl:495; rand!(::MersenneTwister, ...\n",
      "  ╎    ╎    ╎    7   ...dom/src/RNGs.jl:469; fill_array!\n",
      " 6╎    ╎    ╎     7   ...om/src/DSFMT.jl:95; dsfmt_fill_array_close_o...\n",
      "Total snapshots: 114\n"
     ]
    }
   ],
   "source": [
    "Profile.print()"
   ]
  },
  {
   "cell_type": "code",
   "execution_count": null,
   "id": "ff87c995",
   "metadata": {},
   "outputs": [],
   "source": []
  }
 ],
 "metadata": {
  "kernelspec": {
   "display_name": "Julia 1.5.3",
   "language": "julia",
   "name": "julia-1.5"
  },
  "language_info": {
   "file_extension": ".jl",
   "mimetype": "application/julia",
   "name": "julia",
   "version": "1.5.3"
  }
 },
 "nbformat": 4,
 "nbformat_minor": 5
}
