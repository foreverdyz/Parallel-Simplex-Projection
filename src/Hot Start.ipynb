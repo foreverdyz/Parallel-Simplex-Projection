{
 "cells": [
  {
   "cell_type": "code",
   "execution_count": 1,
   "id": "b2be722e",
   "metadata": {},
   "outputs": [
    {
     "data": {
      "text/plain": [
       "hotstart_michelot (generic function with 2 methods)"
      ]
     },
     "execution_count": 1,
     "metadata": {},
     "output_type": "execute_result"
    }
   ],
   "source": [
    "function hotstart_michelot(d::AbstractVector, b::Real = 1)\n",
    "    y = d[1:10_000]\n",
    "    p = (sum(y)-b)/10_000\n",
    "    while true\n",
    "        l = length(y)\n",
    "        s = -b\n",
    "        for i in 1:l\n",
    "            x = popfirst!(y)\n",
    "            if x>p\n",
    "                push!(y, x)\n",
    "                s += x\n",
    "            end\n",
    "        end\n",
    "        p = s/length(y)\n",
    "        if length(y) == l\n",
    "            break\n",
    "        end    \n",
    "    end\n",
    "    y = d[1:end]\n",
    "    while true\n",
    "        l = length(y)\n",
    "        s = -b\n",
    "        for i in 1:l\n",
    "            x = popfirst!(y)\n",
    "            if x>p\n",
    "                push!(y, x)\n",
    "                s += x\n",
    "            end\n",
    "        end\n",
    "        p = s/length(y)\n",
    "        if length(y) == l\n",
    "            break\n",
    "        end \n",
    "    end\n",
    "    return max.(d.-p, 0)\n",
    "end"
   ]
  },
  {
   "cell_type": "code",
   "execution_count": 2,
   "id": "bceaeddb",
   "metadata": {},
   "outputs": [
    {
     "data": {
      "text/plain": [
       "michelot (generic function with 2 methods)"
      ]
     },
     "execution_count": 2,
     "metadata": {},
     "output_type": "execute_result"
    }
   ],
   "source": [
    "function michelot(d::AbstractVector, b::Real = 1)\n",
    "    p = (sum(d)-b)/length(d)\n",
    "    y = d[1:end]\n",
    "    while true\n",
    "        l = length(y)\n",
    "        s = -b\n",
    "        for i in 1:l\n",
    "            x = popfirst!(y)\n",
    "            if x>p\n",
    "                push!(y, x)\n",
    "                s += x\n",
    "            end\n",
    "        end\n",
    "        p = s/length(y)\n",
    "        if length(y) == l\n",
    "            break\n",
    "        end \n",
    "    end\n",
    "    return max.(d.-p, 0)\n",
    "end"
   ]
  },
  {
   "cell_type": "code",
   "execution_count": 22,
   "id": "6d46c005",
   "metadata": {},
   "outputs": [
    {
     "data": {
      "text/plain": [
       "condat_s (generic function with 2 methods)"
      ]
     },
     "execution_count": 22,
     "metadata": {},
     "output_type": "execute_result"
    }
   ],
   "source": [
    "using BangBang\n",
    "function serial_filter(y::AbstractVector, b::Real = 1)\n",
    "    #initialize active list\n",
    "    v = [y[1]]\n",
    "    #initialize pivot\n",
    "    p = v[1]-b\n",
    "    #initialize waiting list\n",
    "    u = []\n",
    "    sl = 0\n",
    "        for i in 2:length(y)\n",
    "        #remove inactive terms\n",
    "        if y[i] > p\n",
    "            #update pivot\n",
    "            p = p + (y[i]-p)/(sl+=1)\n",
    "            if p > y[i]-b\n",
    "                push!(v, y[i])\n",
    "            else\n",
    "                #if pivot is too large, push previous list to waiting list\n",
    "                append!!(u, v)\n",
    "                v = [y[i]]\n",
    "                p = y[i]-b\n",
    "                sl = 1\n",
    "            end\n",
    "        end\n",
    "    end\n",
    "    #reuse some terms from waiting list\n",
    "    for i in 1:length(u)\n",
    "        if u[i] > p\n",
    "                push!(v, u[i])\n",
    "                p = p + (u[i]-p)/(sl+=1)\n",
    "        end\n",
    "    end   \n",
    "    #output active list    \n",
    "    return v\n",
    "end\n",
    "\n",
    "function checkL(y::AbstractVector, b::Real = 1)\n",
    "    #initialize pivot, this step is used to improve numeric accuracy\n",
    "    p = (sum(y)-b)/length(y)\n",
    "    while true\n",
    "        #record length\n",
    "        l = length(y)\n",
    "        #r is number of terms will be removed in this round\n",
    "        r = 0\n",
    "        #check all terms in current y\n",
    "        s = -b\n",
    "        for i in 1:l\n",
    "            x = popfirst!(y)\n",
    "            if x <= p\n",
    "                r += 1\n",
    "                #update pivot\n",
    "                p = p + (p-x)/(l-r)\n",
    "            else\n",
    "                push!(y,x)\n",
    "                s += x\n",
    "            end\n",
    "        end\n",
    "        p = s/length(y)\n",
    "        #check termination condition\n",
    "        if l == length(y)\n",
    "            return p\n",
    "        end\n",
    "    end\n",
    "end\n",
    "\n",
    "function serial_condat(d::AbstractVector, b::Real = 1)\n",
    "    #filter\n",
    "    y = serial_filter(d, b)\n",
    "    #after filter, Condat's method scans and checks remaining rems\n",
    "    p = checkL(y, b)\n",
    "    #output projection result\n",
    "    return max.(d.-p, 0)\n",
    "    #return p\n",
    "end\n",
    "\n",
    "condat_s(data::AbstractVector, a::Real = 1) = serial_condat(data, a)"
   ]
  },
  {
   "cell_type": "code",
   "execution_count": 17,
   "id": "d353843c",
   "metadata": {},
   "outputs": [
    {
     "data": {
      "text/plain": [
       "hotstart_condat (generic function with 2 methods)"
      ]
     },
     "execution_count": 17,
     "metadata": {},
     "output_type": "execute_result"
    }
   ],
   "source": [
    "function hotstart_condat(d::AbstractVector, b::Real = 1)\n",
    "    y = serial_filter(d[1:10_000], b)\n",
    "    p = checkL(y, b)\n",
    "    y = []\n",
    "    s = -b\n",
    "    for i in 1:length(d)\n",
    "        if d[i]>p\n",
    "            push!(y, d[i])\n",
    "            s += d[i]\n",
    "        end    \n",
    "    end\n",
    "    p = s/length(y)\n",
    "    while true\n",
    "        #record length\n",
    "        l = length(y)\n",
    "        #r is number of terms will be removed in this round\n",
    "        r = 0\n",
    "        #check all terms in current y\n",
    "        s = -b\n",
    "        for i in 1:l\n",
    "            x = popfirst!(y)\n",
    "            if x <= p\n",
    "                r += 1\n",
    "                #update pivot\n",
    "                p = p + (p-x)/(l-r)\n",
    "            else\n",
    "                push!(y,x)\n",
    "                s += x\n",
    "            end\n",
    "        end\n",
    "        p = s/length(y)\n",
    "        #check termination condition\n",
    "        if l == length(y)\n",
    "            return max.(d.-p, 0)\n",
    "        end\n",
    "    end\n",
    "end    "
   ]
  },
  {
   "cell_type": "code",
   "execution_count": 3,
   "id": "f6ef2bbf",
   "metadata": {},
   "outputs": [
    {
     "data": {
      "text/plain": [
       "20"
      ]
     },
     "execution_count": 3,
     "metadata": {},
     "output_type": "execute_result"
    }
   ],
   "source": [
    "using BenchmarkTools, Random, Distributions\n",
    "BenchmarkTools.DEFAULT_PARAMETERS.gcsample = true\n",
    "BenchmarkTools.DEFAULT_PARAMETERS.samples = 100\n",
    "BenchmarkTools.DEFAULT_PARAMETERS.seconds = 20"
   ]
  },
  {
   "cell_type": "code",
   "execution_count": 4,
   "id": "d2e168b3",
   "metadata": {},
   "outputs": [
    {
     "data": {
      "text/plain": [
       "BenchmarkTools.Trial: 11 samples with 1 evaluation.\n",
       " Range \u001b[90m(\u001b[39m\u001b[36m\u001b[1mmin\u001b[22m\u001b[39m … \u001b[35mmax\u001b[39m\u001b[90m):  \u001b[39m\u001b[36m\u001b[1m1.558 s\u001b[22m\u001b[39m … \u001b[35m  1.603 s\u001b[39m  \u001b[90m┊\u001b[39m GC \u001b[90m(\u001b[39mmin … max\u001b[90m): \u001b[39m0.04% … 0.04%\n",
       " Time  \u001b[90m(\u001b[39m\u001b[34m\u001b[1mmedian\u001b[22m\u001b[39m\u001b[90m):     \u001b[39m\u001b[34m\u001b[1m1.570 s              \u001b[22m\u001b[39m\u001b[90m┊\u001b[39m GC \u001b[90m(\u001b[39mmedian\u001b[90m):    \u001b[39m0.04%\n",
       " Time  \u001b[90m(\u001b[39m\u001b[32m\u001b[1mmean\u001b[22m\u001b[39m ± \u001b[32mσ\u001b[39m\u001b[90m):   \u001b[39m\u001b[32m\u001b[1m1.575 s\u001b[22m\u001b[39m ± \u001b[32m16.970 ms\u001b[39m  \u001b[90m┊\u001b[39m GC \u001b[90m(\u001b[39mmean ± σ\u001b[90m):  \u001b[39m0.07% ± 0.09%\n",
       "\n",
       "  \u001b[39m▁\u001b[39m \u001b[39m \u001b[39m▁\u001b[39m \u001b[39m▁\u001b[39m \u001b[34m█\u001b[39m\u001b[39m \u001b[39m \u001b[39m \u001b[39m \u001b[39m \u001b[39m \u001b[39m \u001b[39m█\u001b[39m \u001b[39m \u001b[39m \u001b[39m \u001b[39m \u001b[39m \u001b[32m \u001b[39m\u001b[39m \u001b[39m \u001b[39m \u001b[39m \u001b[39m \u001b[39m \u001b[39m▁\u001b[39m \u001b[39m \u001b[39m \u001b[39m \u001b[39m \u001b[39m \u001b[39m \u001b[39m \u001b[39m \u001b[39m \u001b[39m \u001b[39m \u001b[39m \u001b[39m \u001b[39m \u001b[39m \u001b[39m \u001b[39m \u001b[39m \u001b[39m \u001b[39m \u001b[39m▁\u001b[39m▁\u001b[39m \u001b[39m \u001b[39m \u001b[39m▁\u001b[39m \u001b[39m \n",
       "  \u001b[39m█\u001b[39m▁\u001b[39m▁\u001b[39m█\u001b[39m▁\u001b[39m█\u001b[39m▁\u001b[34m█\u001b[39m\u001b[39m▁\u001b[39m▁\u001b[39m▁\u001b[39m▁\u001b[39m▁\u001b[39m▁\u001b[39m▁\u001b[39m█\u001b[39m▁\u001b[39m▁\u001b[39m▁\u001b[39m▁\u001b[39m▁\u001b[39m▁\u001b[32m▁\u001b[39m\u001b[39m▁\u001b[39m▁\u001b[39m▁\u001b[39m▁\u001b[39m▁\u001b[39m▁\u001b[39m█\u001b[39m▁\u001b[39m▁\u001b[39m▁\u001b[39m▁\u001b[39m▁\u001b[39m▁\u001b[39m▁\u001b[39m▁\u001b[39m▁\u001b[39m▁\u001b[39m▁\u001b[39m▁\u001b[39m▁\u001b[39m▁\u001b[39m▁\u001b[39m▁\u001b[39m▁\u001b[39m▁\u001b[39m▁\u001b[39m▁\u001b[39m▁\u001b[39m█\u001b[39m█\u001b[39m▁\u001b[39m▁\u001b[39m▁\u001b[39m█\u001b[39m \u001b[39m▁\n",
       "  1.56 s\u001b[90m         Histogram: frequency by time\u001b[39m         1.6 s \u001b[0m\u001b[1m<\u001b[22m\n",
       "\n",
       " Memory estimate\u001b[90m: \u001b[39m\u001b[33m2.24 GiB\u001b[39m, allocs estimate\u001b[90m: \u001b[39m\u001b[33m8\u001b[39m."
      ]
     },
     "execution_count": 4,
     "metadata": {},
     "output_type": "execute_result"
    }
   ],
   "source": [
    "Random.seed!(12345); @benchmark hotstart_michelot($(rand(1_00_000_000)), 1)"
   ]
  },
  {
   "cell_type": "code",
   "execution_count": 5,
   "id": "3d3bc9c3",
   "metadata": {},
   "outputs": [
    {
     "data": {
      "text/plain": [
       "BenchmarkTools.Trial: 5 samples with 1 evaluation.\n",
       " Range \u001b[90m(\u001b[39m\u001b[36m\u001b[1mmin\u001b[22m\u001b[39m … \u001b[35mmax\u001b[39m\u001b[90m):  \u001b[39m\u001b[36m\u001b[1m3.817 s\u001b[22m\u001b[39m … \u001b[35m  4.004 s\u001b[39m  \u001b[90m┊\u001b[39m GC \u001b[90m(\u001b[39mmin … max\u001b[90m): \u001b[39m0.02% … 0.02%\n",
       " Time  \u001b[90m(\u001b[39m\u001b[34m\u001b[1mmedian\u001b[22m\u001b[39m\u001b[90m):     \u001b[39m\u001b[34m\u001b[1m3.833 s              \u001b[22m\u001b[39m\u001b[90m┊\u001b[39m GC \u001b[90m(\u001b[39mmedian\u001b[90m):    \u001b[39m0.02%\n",
       " Time  \u001b[90m(\u001b[39m\u001b[32m\u001b[1mmean\u001b[22m\u001b[39m ± \u001b[32mσ\u001b[39m\u001b[90m):   \u001b[39m\u001b[32m\u001b[1m3.871 s\u001b[22m\u001b[39m ± \u001b[32m77.170 ms\u001b[39m  \u001b[90m┊\u001b[39m GC \u001b[90m(\u001b[39mmean ± σ\u001b[90m):  \u001b[39m0.03% ± 0.01%\n",
       "\n",
       "  \u001b[39m█\u001b[39m \u001b[39m \u001b[39m█\u001b[34m█\u001b[39m\u001b[39m \u001b[39m \u001b[39m \u001b[39m \u001b[39m \u001b[39m \u001b[39m \u001b[39m \u001b[39m \u001b[39m \u001b[39m \u001b[32m█\u001b[39m\u001b[39m \u001b[39m \u001b[39m \u001b[39m \u001b[39m \u001b[39m \u001b[39m \u001b[39m \u001b[39m \u001b[39m \u001b[39m \u001b[39m \u001b[39m \u001b[39m \u001b[39m \u001b[39m \u001b[39m \u001b[39m \u001b[39m \u001b[39m \u001b[39m \u001b[39m \u001b[39m \u001b[39m \u001b[39m \u001b[39m \u001b[39m \u001b[39m \u001b[39m \u001b[39m \u001b[39m \u001b[39m \u001b[39m \u001b[39m \u001b[39m \u001b[39m \u001b[39m \u001b[39m \u001b[39m \u001b[39m█\u001b[39m \u001b[39m \n",
       "  \u001b[39m█\u001b[39m▁\u001b[39m▁\u001b[39m█\u001b[34m█\u001b[39m\u001b[39m▁\u001b[39m▁\u001b[39m▁\u001b[39m▁\u001b[39m▁\u001b[39m▁\u001b[39m▁\u001b[39m▁\u001b[39m▁\u001b[39m▁\u001b[39m▁\u001b[32m█\u001b[39m\u001b[39m▁\u001b[39m▁\u001b[39m▁\u001b[39m▁\u001b[39m▁\u001b[39m▁\u001b[39m▁\u001b[39m▁\u001b[39m▁\u001b[39m▁\u001b[39m▁\u001b[39m▁\u001b[39m▁\u001b[39m▁\u001b[39m▁\u001b[39m▁\u001b[39m▁\u001b[39m▁\u001b[39m▁\u001b[39m▁\u001b[39m▁\u001b[39m▁\u001b[39m▁\u001b[39m▁\u001b[39m▁\u001b[39m▁\u001b[39m▁\u001b[39m▁\u001b[39m▁\u001b[39m▁\u001b[39m▁\u001b[39m▁\u001b[39m▁\u001b[39m▁\u001b[39m▁\u001b[39m▁\u001b[39m▁\u001b[39m▁\u001b[39m▁\u001b[39m█\u001b[39m \u001b[39m▁\n",
       "  3.82 s\u001b[90m         Histogram: frequency by time\u001b[39m           4 s \u001b[0m\u001b[1m<\u001b[22m\n",
       "\n",
       " Memory estimate\u001b[90m: \u001b[39m\u001b[33m2.24 GiB\u001b[39m, allocs estimate\u001b[90m: \u001b[39m\u001b[33m5\u001b[39m."
      ]
     },
     "execution_count": 5,
     "metadata": {},
     "output_type": "execute_result"
    }
   ],
   "source": [
    "Random.seed!(12345); @benchmark michelot($(rand(1_00_000_000)), 1)"
   ]
  },
  {
   "cell_type": "code",
   "execution_count": 13,
   "id": "05c940a2",
   "metadata": {},
   "outputs": [
    {
     "data": {
      "text/plain": [
       "BenchmarkTools.Trial: 30 samples with 1 evaluation.\n",
       " Range \u001b[90m(\u001b[39m\u001b[36m\u001b[1mmin\u001b[22m\u001b[39m … \u001b[35mmax\u001b[39m\u001b[90m):  \u001b[39m\u001b[36m\u001b[1m347.939 ms\u001b[22m\u001b[39m … \u001b[35m357.469 ms\u001b[39m  \u001b[90m┊\u001b[39m GC \u001b[90m(\u001b[39mmin … max\u001b[90m): \u001b[39m0.00% … 0.00%\n",
       " Time  \u001b[90m(\u001b[39m\u001b[34m\u001b[1mmedian\u001b[22m\u001b[39m\u001b[90m):     \u001b[39m\u001b[34m\u001b[1m349.664 ms               \u001b[22m\u001b[39m\u001b[90m┊\u001b[39m GC \u001b[90m(\u001b[39mmedian\u001b[90m):    \u001b[39m0.00%\n",
       " Time  \u001b[90m(\u001b[39m\u001b[32m\u001b[1mmean\u001b[22m\u001b[39m ± \u001b[32mσ\u001b[39m\u001b[90m):   \u001b[39m\u001b[32m\u001b[1m350.245 ms\u001b[22m\u001b[39m ± \u001b[32m  2.071 ms\u001b[39m  \u001b[90m┊\u001b[39m GC \u001b[90m(\u001b[39mmean ± σ\u001b[90m):  \u001b[39m0.01% ± 0.04%\n",
       "\n",
       "  \u001b[39m \u001b[39m \u001b[39m▃\u001b[39m \u001b[39m \u001b[39m█\u001b[39m▃\u001b[39m \u001b[39m \u001b[39m▃\u001b[39m▃\u001b[34m \u001b[39m\u001b[39m▃\u001b[39m \u001b[39m \u001b[32m \u001b[39m\u001b[39m \u001b[39m \u001b[39m \u001b[39m▃\u001b[39m \u001b[39m \u001b[39m \u001b[39m \u001b[39m \u001b[39m \u001b[39m \u001b[39m \u001b[39m \u001b[39m \u001b[39m \u001b[39m \u001b[39m \u001b[39m \u001b[39m \u001b[39m \u001b[39m \u001b[39m \u001b[39m \u001b[39m \u001b[39m \u001b[39m \u001b[39m \u001b[39m \u001b[39m \u001b[39m \u001b[39m \u001b[39m \u001b[39m \u001b[39m \u001b[39m \u001b[39m \u001b[39m \u001b[39m \u001b[39m \u001b[39m \u001b[39m \u001b[39m \u001b[39m \u001b[39m \u001b[39m \u001b[39m \u001b[39m \n",
       "  \u001b[39m▇\u001b[39m▇\u001b[39m█\u001b[39m▁\u001b[39m▇\u001b[39m█\u001b[39m█\u001b[39m▁\u001b[39m▇\u001b[39m█\u001b[39m█\u001b[34m▇\u001b[39m\u001b[39m█\u001b[39m▇\u001b[39m▁\u001b[32m▇\u001b[39m\u001b[39m▁\u001b[39m▇\u001b[39m▇\u001b[39m█\u001b[39m▇\u001b[39m▇\u001b[39m▁\u001b[39m▁\u001b[39m▁\u001b[39m▁\u001b[39m▇\u001b[39m▁\u001b[39m▁\u001b[39m▁\u001b[39m▁\u001b[39m▁\u001b[39m▁\u001b[39m▁\u001b[39m▁\u001b[39m▁\u001b[39m▁\u001b[39m▁\u001b[39m▁\u001b[39m▇\u001b[39m▁\u001b[39m▁\u001b[39m▇\u001b[39m▁\u001b[39m▁\u001b[39m▁\u001b[39m▁\u001b[39m▁\u001b[39m▁\u001b[39m▁\u001b[39m▁\u001b[39m▁\u001b[39m▁\u001b[39m▁\u001b[39m▁\u001b[39m▁\u001b[39m▁\u001b[39m▁\u001b[39m▁\u001b[39m▁\u001b[39m▇\u001b[39m \u001b[39m▁\n",
       "  348 ms\u001b[90m           Histogram: frequency by time\u001b[39m          357 ms \u001b[0m\u001b[1m<\u001b[22m\n",
       "\n",
       " Memory estimate\u001b[90m: \u001b[39m\u001b[33m764.94 MiB\u001b[39m, allocs estimate\u001b[90m: \u001b[39m\u001b[33m20\u001b[39m."
      ]
     },
     "execution_count": 13,
     "metadata": {},
     "output_type": "execute_result"
    }
   ],
   "source": [
    "Random.seed!(12345); @benchmark condat_s($(rand(1_00_000_000)), 1)"
   ]
  },
  {
   "cell_type": "code",
   "execution_count": 19,
   "id": "68b9f7df",
   "metadata": {},
   "outputs": [
    {
     "data": {
      "text/plain": [
       "BenchmarkTools.Trial: 19 samples with 1 evaluation.\n",
       " Range \u001b[90m(\u001b[39m\u001b[36m\u001b[1mmin\u001b[22m\u001b[39m … \u001b[35mmax\u001b[39m\u001b[90m):  \u001b[39m\u001b[36m\u001b[1m758.944 ms\u001b[22m\u001b[39m … \u001b[35m775.829 ms\u001b[39m  \u001b[90m┊\u001b[39m GC \u001b[90m(\u001b[39mmin … max\u001b[90m): \u001b[39m1.40% … 1.39%\n",
       " Time  \u001b[90m(\u001b[39m\u001b[34m\u001b[1mmedian\u001b[22m\u001b[39m\u001b[90m):     \u001b[39m\u001b[34m\u001b[1m761.515 ms               \u001b[22m\u001b[39m\u001b[90m┊\u001b[39m GC \u001b[90m(\u001b[39mmedian\u001b[90m):    \u001b[39m1.38%\n",
       " Time  \u001b[90m(\u001b[39m\u001b[32m\u001b[1mmean\u001b[22m\u001b[39m ± \u001b[32mσ\u001b[39m\u001b[90m):   \u001b[39m\u001b[32m\u001b[1m763.470 ms\u001b[22m\u001b[39m ± \u001b[32m  5.254 ms\u001b[39m  \u001b[90m┊\u001b[39m GC \u001b[90m(\u001b[39mmean ± σ\u001b[90m):  \u001b[39m1.39% ± 0.02%\n",
       "\n",
       "  \u001b[39m▃\u001b[39m \u001b[39m \u001b[39m \u001b[39m \u001b[39m▃\u001b[39m▃\u001b[34m \u001b[39m\u001b[39m \u001b[39m█\u001b[39m \u001b[39m \u001b[39m \u001b[39m \u001b[39m \u001b[39m \u001b[32m \u001b[39m\u001b[39m \u001b[39m \u001b[39m \u001b[39m \u001b[39m \u001b[39m \u001b[39m \u001b[39m \u001b[39m \u001b[39m \u001b[39m \u001b[39m \u001b[39m \u001b[39m \u001b[39m \u001b[39m \u001b[39m \u001b[39m \u001b[39m \u001b[39m \u001b[39m \u001b[39m \u001b[39m \u001b[39m \u001b[39m \u001b[39m \u001b[39m \u001b[39m \u001b[39m \u001b[39m \u001b[39m \u001b[39m \u001b[39m \u001b[39m \u001b[39m \u001b[39m \u001b[39m \u001b[39m \u001b[39m \u001b[39m \u001b[39m \u001b[39m \u001b[39m \u001b[39m▃\u001b[39m \u001b[39m \n",
       "  \u001b[39m█\u001b[39m▇\u001b[39m▁\u001b[39m▇\u001b[39m▁\u001b[39m█\u001b[39m█\u001b[34m▇\u001b[39m\u001b[39m▁\u001b[39m█\u001b[39m▁\u001b[39m▁\u001b[39m▁\u001b[39m▁\u001b[39m▇\u001b[39m▁\u001b[32m▇\u001b[39m\u001b[39m▁\u001b[39m▁\u001b[39m▇\u001b[39m▁\u001b[39m▁\u001b[39m▁\u001b[39m▁\u001b[39m▁\u001b[39m▁\u001b[39m▁\u001b[39m▁\u001b[39m▇\u001b[39m▁\u001b[39m▁\u001b[39m▁\u001b[39m▁\u001b[39m▁\u001b[39m▁\u001b[39m▁\u001b[39m▁\u001b[39m▁\u001b[39m▁\u001b[39m▁\u001b[39m▁\u001b[39m▁\u001b[39m▁\u001b[39m▁\u001b[39m▇\u001b[39m▁\u001b[39m▁\u001b[39m▁\u001b[39m▁\u001b[39m▁\u001b[39m▁\u001b[39m▁\u001b[39m▁\u001b[39m▁\u001b[39m▁\u001b[39m▁\u001b[39m▁\u001b[39m▁\u001b[39m▁\u001b[39m▁\u001b[39m█\u001b[39m \u001b[39m▁\n",
       "  759 ms\u001b[90m           Histogram: frequency by time\u001b[39m          776 ms \u001b[0m\u001b[1m<\u001b[22m\n",
       "\n",
       " Memory estimate\u001b[90m: \u001b[39m\u001b[33m901.90 MiB\u001b[39m, allocs estimate\u001b[90m: \u001b[39m\u001b[33m7987522\u001b[39m."
      ]
     },
     "execution_count": 19,
     "metadata": {},
     "output_type": "execute_result"
    }
   ],
   "source": [
    "Random.seed!(12345); @benchmark hotstart_condat($(rand(1_00_000_000)), 1)"
   ]
  },
  {
   "cell_type": "code",
   "execution_count": null,
   "id": "7e096db6",
   "metadata": {},
   "outputs": [],
   "source": []
  }
 ],
 "metadata": {
  "kernelspec": {
   "display_name": "Julia 1.5.3",
   "language": "julia",
   "name": "julia-1.5"
  },
  "language_info": {
   "file_extension": ".jl",
   "mimetype": "application/julia",
   "name": "julia",
   "version": "1.5.3"
  }
 },
 "nbformat": 4,
 "nbformat_minor": 5
}
